{
  "nbformat": 4,
  "nbformat_minor": 0,
  "metadata": {
    "colab": {
      "provenance": [],
      "authorship_tag": "ABX9TyPgJyASA88gt4GmUNCGT4Oi",
      "include_colab_link": true
    },
    "kernelspec": {
      "name": "python3",
      "display_name": "Python 3"
    },
    "language_info": {
      "name": "python"
    }
  },
  "cells": [
    {
      "cell_type": "markdown",
      "metadata": {
        "id": "view-in-github",
        "colab_type": "text"
      },
      "source": [
        "<a href=\"https://colab.research.google.com/github/anjalii24/ChatBot/blob/main/JAC.ipynb\" target=\"_parent\"><img src=\"https://colab.research.google.com/assets/colab-badge.svg\" alt=\"Open In Colab\"/></a>"
      ]
    },
    {
      "cell_type": "code",
      "source": [
        "pip install humingbird"
      ],
      "metadata": {
        "colab": {
          "base_uri": "https://localhost:8080/"
        },
        "id": "0IQmluBkWeuR",
        "outputId": "07db981f-f290-4ba9-8c29-c11dc2bcd0a0"
      },
      "execution_count": 2,
      "outputs": [
        {
          "output_type": "stream",
          "name": "stdout",
          "text": [
            "Collecting humingbird\n",
            "  Downloading humingbird-0.5.1-py3-none-any.whl (4.4 kB)\n",
            "Requirement already satisfied: Pillow>=7.1 in /usr/local/lib/python3.10/dist-packages (from humingbird) (9.4.0)\n",
            "Collecting transformers>=4.19.2 (from humingbird)\n",
            "  Downloading transformers-4.31.0-py3-none-any.whl (7.4 MB)\n",
            "\u001b[2K     \u001b[90m━━━━━━━━━━━━━━━━━━━━━━━━━━━━━━━━━━━━━━━━\u001b[0m \u001b[32m7.4/7.4 MB\u001b[0m \u001b[31m16.6 MB/s\u001b[0m eta \u001b[36m0:00:00\u001b[0m\n",
            "\u001b[?25hRequirement already satisfied: torch>=1.11.0 in /usr/local/lib/python3.10/dist-packages (from humingbird) (2.0.1+cu118)\n",
            "Requirement already satisfied: filelock in /usr/local/lib/python3.10/dist-packages (from torch>=1.11.0->humingbird) (3.12.2)\n",
            "Requirement already satisfied: typing-extensions in /usr/local/lib/python3.10/dist-packages (from torch>=1.11.0->humingbird) (4.7.1)\n",
            "Requirement already satisfied: sympy in /usr/local/lib/python3.10/dist-packages (from torch>=1.11.0->humingbird) (1.11.1)\n",
            "Requirement already satisfied: networkx in /usr/local/lib/python3.10/dist-packages (from torch>=1.11.0->humingbird) (3.1)\n",
            "Requirement already satisfied: jinja2 in /usr/local/lib/python3.10/dist-packages (from torch>=1.11.0->humingbird) (3.1.2)\n",
            "Requirement already satisfied: triton==2.0.0 in /usr/local/lib/python3.10/dist-packages (from torch>=1.11.0->humingbird) (2.0.0)\n",
            "Requirement already satisfied: cmake in /usr/local/lib/python3.10/dist-packages (from triton==2.0.0->torch>=1.11.0->humingbird) (3.25.2)\n",
            "Requirement already satisfied: lit in /usr/local/lib/python3.10/dist-packages (from triton==2.0.0->torch>=1.11.0->humingbird) (16.0.6)\n",
            "Collecting huggingface-hub<1.0,>=0.14.1 (from transformers>=4.19.2->humingbird)\n",
            "  Downloading huggingface_hub-0.16.4-py3-none-any.whl (268 kB)\n",
            "\u001b[2K     \u001b[90m━━━━━━━━━━━━━━━━━━━━━━━━━━━━━━━━━━━━━━\u001b[0m \u001b[32m268.8/268.8 kB\u001b[0m \u001b[31m25.2 MB/s\u001b[0m eta \u001b[36m0:00:00\u001b[0m\n",
            "\u001b[?25hRequirement already satisfied: numpy>=1.17 in /usr/local/lib/python3.10/dist-packages (from transformers>=4.19.2->humingbird) (1.23.5)\n",
            "Requirement already satisfied: packaging>=20.0 in /usr/local/lib/python3.10/dist-packages (from transformers>=4.19.2->humingbird) (23.1)\n",
            "Requirement already satisfied: pyyaml>=5.1 in /usr/local/lib/python3.10/dist-packages (from transformers>=4.19.2->humingbird) (6.0.1)\n",
            "Requirement already satisfied: regex!=2019.12.17 in /usr/local/lib/python3.10/dist-packages (from transformers>=4.19.2->humingbird) (2022.10.31)\n",
            "Requirement already satisfied: requests in /usr/local/lib/python3.10/dist-packages (from transformers>=4.19.2->humingbird) (2.31.0)\n",
            "Collecting tokenizers!=0.11.3,<0.14,>=0.11.1 (from transformers>=4.19.2->humingbird)\n",
            "  Downloading tokenizers-0.13.3-cp310-cp310-manylinux_2_17_x86_64.manylinux2014_x86_64.whl (7.8 MB)\n",
            "\u001b[2K     \u001b[90m━━━━━━━━━━━━━━━━━━━━━━━━━━━━━━━━━━━━━━━━\u001b[0m \u001b[32m7.8/7.8 MB\u001b[0m \u001b[31m49.9 MB/s\u001b[0m eta \u001b[36m0:00:00\u001b[0m\n",
            "\u001b[?25hCollecting safetensors>=0.3.1 (from transformers>=4.19.2->humingbird)\n",
            "  Downloading safetensors-0.3.2-cp310-cp310-manylinux_2_17_x86_64.manylinux2014_x86_64.whl (1.3 MB)\n",
            "\u001b[2K     \u001b[90m━━━━━━━━━━━━━━━━━━━━━━━━━━━━━━━━━━━━━━━━\u001b[0m \u001b[32m1.3/1.3 MB\u001b[0m \u001b[31m50.3 MB/s\u001b[0m eta \u001b[36m0:00:00\u001b[0m\n",
            "\u001b[?25hRequirement already satisfied: tqdm>=4.27 in /usr/local/lib/python3.10/dist-packages (from transformers>=4.19.2->humingbird) (4.65.0)\n",
            "Requirement already satisfied: fsspec in /usr/local/lib/python3.10/dist-packages (from huggingface-hub<1.0,>=0.14.1->transformers>=4.19.2->humingbird) (2023.6.0)\n",
            "Requirement already satisfied: MarkupSafe>=2.0 in /usr/local/lib/python3.10/dist-packages (from jinja2->torch>=1.11.0->humingbird) (2.1.3)\n",
            "Requirement already satisfied: charset-normalizer<4,>=2 in /usr/local/lib/python3.10/dist-packages (from requests->transformers>=4.19.2->humingbird) (3.2.0)\n",
            "Requirement already satisfied: idna<4,>=2.5 in /usr/local/lib/python3.10/dist-packages (from requests->transformers>=4.19.2->humingbird) (3.4)\n",
            "Requirement already satisfied: urllib3<3,>=1.21.1 in /usr/local/lib/python3.10/dist-packages (from requests->transformers>=4.19.2->humingbird) (1.26.16)\n",
            "Requirement already satisfied: certifi>=2017.4.17 in /usr/local/lib/python3.10/dist-packages (from requests->transformers>=4.19.2->humingbird) (2023.7.22)\n",
            "Requirement already satisfied: mpmath>=0.19 in /usr/local/lib/python3.10/dist-packages (from sympy->torch>=1.11.0->humingbird) (1.3.0)\n",
            "Installing collected packages: tokenizers, safetensors, huggingface-hub, transformers, humingbird\n",
            "Successfully installed huggingface-hub-0.16.4 humingbird-0.5.1 safetensors-0.3.2 tokenizers-0.13.3 transformers-4.31.0\n"
          ]
        }
      ]
    },
    {
      "cell_type": "code",
      "execution_count": 23,
      "metadata": {
        "id": "iOIXj_EBHkHh"
      },
      "outputs": [],
      "source": [
        "import humingbird\n",
        "import random\n",
        "\n",
        "intents = {\n",
        "  \"greeting\": [\"Hi! Welcome to the JAC COUNSELLING help support.\", \"Welcome! What can i help you with?\"],\n",
        "  \"goodbye\": [\"Goodbye!\", \"Nice chatting! Have a great day.\"],\n",
        "  \"JAC\": [\"Joint Admission Committee (JAC) for counselling and admission to Undergraduate Programmes in premier Delhi Government funded universities, offering Engineering, Architecture and Management programmes started in the year 2014, as an initiative of the Govt. of NCT of Delhi. For more information visit 'https://jacdelhi.admissions.nic.in/'\"],\n",
        "  \"regestration\": [\"JAC Delhi 2023 registration start date is May 26. Candidates can apply for the JAC Delhi application process till June 25.\"],\n",
        "  \"application\": [\"JAC Delhi 2023 registration start date is May 26. Candidates can apply for the JAC Delhi application process till June 25.\"],\n",
        "  \"start\": [\"JAC Delhi 2023 registration start date is May 26.\"],\n",
        "  \"last\":[\"Candidates can apply for the JAC Delhi application process till June 25.\"],\n",
        "  \"fee\":[\"The Registration-cum-Counselling Fee of JAC Delhi Application Form 2023 is INR 1500. This is a non-refundable fee which has to be paid through an online mode of payment.\"],\n",
        "  \"colleges\":[\"This year, Delhi Technological University (DTU), Indira Gandhi Delhi Technical University for Women (IGDTUW), Indraprastha Institute of Information Technology, Delhi (IIITD), Netaji Subhas University of Technology (NSUT) and Delhi Skill and Entrepreneurship University(DSEU) are participating in JAC. What is your gender(M/F)?\"],\n",
        "  \"institutes\":[\"This year, Delhi Technological University (DTU), Indira Gandhi Delhi Technical University for Women (IGDTUW), Indraprastha Institute of Information Technology, Delhi (IIITD), Netaji Subhas University of Technology (NSUT) and Delhi Skill and Entrepreneurship University(DSEU) are participating in JAC.What is your gender(M/F)?\"],\n",
        "  \"M\":[\"You have 4 college options.Delhi Technological University (DTU), Indraprastha Institute of Information Technology, Delhi (IIITD), Netaji Subhas University of Technology (NSUT) and Delhi Skill and Entrepreneurship University(DSEU)\"],\n",
        "  \"F\":[\"You have 5 college options.Delhi Technological University (DTU), Indira Gandhi Delhi Technical University for Women (IGDTUW), Indraprastha Institute of Information Technology, Delhi (IIITD), Netaji Subhas University of Technology (NSUT) and Delhi Skill and Entrepreneurship University(DSEU)\"],\n",
        "  \"DTU\":[\"Delhi Technological University (DTU), formerly known as the Delhi College of Engineering (DCE) is a state university in Rohini, Delhi, India. It was established in 1941 as Delhi Polytechnic. What do you want to know more?\"],\n",
        "  \"IGDTUW\":[\"Indira Gandhi Delhi Technical University for Women (IGDTUW),is an all women's university located in New Delhi, India on the heritage campus at Kashmere Gate, Delhi. It was founded as the Indira Gandhi Institute of Technology in 1998. In May 2013 it gained autonomy and became the first women's technical university in India established by Govt. of Delhi.\"],\n",
        "  \"NSUT\":[\"Netaji Subhas University of Technology (NSUT), formerly Netaji Subhas Institute of Technology (NSIT) is a state university located in Dwarka, Delhi, India.In 2018, the institute was granted University status, changing its name to Netaji Subhas University of Technology (NSUT).\"],\n",
        "  \"IIITD\":[\"Indraprastha Institute of Information Technology, Delhi is an autonomous State University located in Delhi, India. It is a research-oriented institute with a focus on Computer Science and allied areas.\"],\n",
        "  \"DSEU\":[\"Delhi Skill and Entrepreneurship University (DSEU), is a collegiate public state university located in Delhi, India. It was established in 2020.\"],\n",
        "  \"DTU Website\":[\"Here you go :https://www.dtu.ac.in/\"],\n",
        "  \"IGDTUW Website\":[\"Here you go :https://www.igdtuw.ac.in/\"],\n",
        "  \"NSUT Website\":[\"Here you go: http://www.nsut.ac.in/en/home\"],\n",
        "  \"IIITD Website\":[\"Here you go: https://www.iiitd.ac.in/ \"],\n",
        "  \"DSEU Website\":[\"Here you go: https://dseu.ac.in/\"],\n",
        "\n",
        "\n",
        "}\n",
        "\n"
      ]
    },
    {
      "cell_type": "code",
      "source": [
        "def detect_and_respond(query):\n",
        "  \"\"\"Detects an intent from the users query and returns a response from the most likely intent\"\"\"\n",
        "\n",
        "  prediction = humingbird.Text.predict(\n",
        "    text=query,\n",
        "    labels=[\"greeting\", \"goodbye\", \"JAC\", \"regestration\", \"application\" \"start\",\"last\",\"fee\",\"colleges\",\"institutes\",\"M\",\"F\",\"DTU\",\"IGDTUW\",\"NSUT\",\"IITD\",\"DSEU\",\"DTU Website\",\"IGDTUW Website\",\"NSUT Website\",\"IITD Website\",\"DSEU Website\",]\n",
        "  )\n",
        "\n",
        "  highest_score = 0\n",
        "  highest_score_class = \"\"\n",
        "\n",
        "  for i in prediction:\n",
        "      if i[\"score\"] > highest_score:\n",
        "          highest_score = i[\"score\"]\n",
        "          highest_score_class = i[\"className\"]\n",
        "\n",
        "  return random.choice(intents[highest_score_class])"
      ],
      "metadata": {
        "id": "E36fmFtTW5dF"
      },
      "execution_count": 24,
      "outputs": []
    },
    {
      "cell_type": "code",
      "source": [
        "exit_condition=('quit', 'exit')\n",
        "while True:\n",
        "  query=input('>')\n",
        "  if query in exit_condition:\n",
        "    break\n",
        "  else:\n",
        "    print(detect_and_respond(query))"
      ],
      "metadata": {
        "colab": {
          "base_uri": "https://localhost:8080/"
        },
        "id": "qC6qXbPWUzDx",
        "outputId": "40467e15-8d07-4929-d06c-34db37738959"
      },
      "execution_count": 25,
      "outputs": [
        {
          "name": "stdout",
          "output_type": "stream",
          "text": [
            ">M\n",
            "You have 4 college options.Delhi Technological University (DTU), Indraprastha Institute of Information Technology, Delhi (IIITD), Netaji Subhas University of Technology (NSUT) and Delhi Skill and Entrepreneurship University(DSEU)\n",
            ">F\n",
            "You have 5 college options.Delhi Technological University (DTU), Indira Gandhi Delhi Technical University for Women (IGDTUW), Indraprastha Institute of Information Technology, Delhi (IIITD), Netaji Subhas University of Technology (NSUT) and Delhi Skill and Entrepreneurship University(DSEU)\n",
            ">exit\n"
          ]
        }
      ]
    },
    {
      "cell_type": "code",
      "source": [],
      "metadata": {
        "id": "FPZuYiyrU-N1"
      },
      "execution_count": null,
      "outputs": []
    }
  ]
}